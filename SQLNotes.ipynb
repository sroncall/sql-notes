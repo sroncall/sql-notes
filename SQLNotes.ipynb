{
    "metadata": {
        "kernelspec": {
            "name": "SQL",
            "display_name": "SQL",
            "language": "sql"
        },
        "language_info": {
            "name": "sql",
            "version": ""
        }
    },
    "nbformat_minor": 2,
    "nbformat": 4,
    "cells": [
        {
            "cell_type": "code",
            "source": [
                "select * from cfg.DeviceOptionSet"
            ],
            "metadata": {
                "azdata_cell_guid": "8a18a9aa-93b9-4485-93a6-def1aec4d432",
                "language": "sql"
            },
            "outputs": [],
            "execution_count": null
        }
    ]
}